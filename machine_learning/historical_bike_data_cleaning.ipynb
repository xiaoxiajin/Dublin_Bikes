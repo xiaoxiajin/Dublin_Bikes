{
 "cells": [
  {
   "cell_type": "markdown",
   "id": "ed84ea8d-5d8b-42df-bcd5-01326890be98",
   "metadata": {},
   "source": [
    "# Data Cleaning"
   ]
  },
  {
   "cell_type": "code",
   "execution_count": 1,
   "id": "99b7ad89-57c1-4700-af3c-b3f104a55cb8",
   "metadata": {},
   "outputs": [],
   "source": [
    "import pandas as pd\n",
    "\n",
    "# Loading the dataset.\n",
    "data = pd.read_csv(\"final_merged_data.csv\")\n",
    "\n",
    "# Handling missing values by dropping rows with NaN.\n",
    "data.dropna(inplace = True)"
   ]
  },
  {
   "cell_type": "code",
   "execution_count": 2,
   "id": "1365ae18-9bb0-400e-8e6d-db84fc169dc3",
   "metadata": {},
   "outputs": [],
   "source": [
    "# Creating a new column for average air temperature.\n",
    "data[\"avg_air_temp\"] = (data[\"max_air_temperature_celsius\"] + data[\"min_air_temperature_celsius\"]) / 2\n",
    "\n",
    "# Creating a new column for average humidty.\n",
    "data[\"avg_humidity\"] = (data[\"max_relative_humidity_percent\"] + data[\"min_relative_humidity_percent\"]) / 2\n",
    "\n",
    "# Updating the CSV.\n",
    "data.to_csv(\"final_merged_data.csv\", index=False)"
   ]
  },
  {
   "cell_type": "markdown",
   "id": "d67e020f-6e7e-4b39-b023-ff18479f0455",
   "metadata": {},
   "source": [
    "Next, any unusable or irrelevant columns will be removed based on the data available from OpenWeather and whether the column has already contributed to the calculation of another feature, as shown above."
   ]
  },
  {
   "cell_type": "code",
   "execution_count": 3,
   "id": "63f4f08c-6fa0-4f6d-bec1-7463e240da53",
   "metadata": {},
   "outputs": [],
   "source": [
    "# Filtering which features to keep below.\n",
    "new_columns = [\"last_reported\", \"station_id\", \"num_bikes_available\", \"num_docks_available\", \"year\", \"month\", \"day\", \"hour\", \"minute\", \"avg_air_temp\", \"avg_humidity\"]\n",
    "\n",
    "# Keeping features as above.\n",
    "cleaned_data = data[new_columns].copy()"
   ]
  },
  {
   "cell_type": "code",
   "execution_count": 4,
   "id": "48fd22e8-9574-4ad8-b074-c2a54f8cd9dc",
   "metadata": {},
   "outputs": [
    {
     "data": {
      "text/plain": [
       "last_reported           object\n",
       "station_id               int64\n",
       "num_bikes_available      int64\n",
       "num_docks_available      int64\n",
       "year                     int64\n",
       "month                    int64\n",
       "day                      int64\n",
       "hour                     int64\n",
       "minute                   int64\n",
       "avg_air_temp           float64\n",
       "avg_humidity           float64\n",
       "dtype: object"
      ]
     },
     "execution_count": 4,
     "metadata": {},
     "output_type": "execute_result"
    }
   ],
   "source": [
    "# Let's examine data types and columns of new DataFrame.\n",
    "cleaned_data.dtypes"
   ]
  },
  {
   "cell_type": "code",
   "execution_count": 5,
   "id": "61ae3ed4-fc9b-4db1-a579-e2856325b859",
   "metadata": {},
   "outputs": [],
   "source": [
    "# Changing column name for clarity and data type.\n",
    "cleaned_data[\"time\"] = pd.to_datetime(cleaned_data[\"last_reported\"], dayfirst=True, errors='coerce')\n",
    "\n",
    "# Dropping rows where 'time' could not be parsed\n",
    "cleaned_data.dropna(subset=[\"time\"], inplace=True)\n",
    "\n",
    "# Dropping old column.\n",
    "cleaned_data.drop(columns=[\"last_reported\"], inplace=True)\n"
   ]
  },
  {
   "cell_type": "code",
   "execution_count": 6,
   "id": "e9b81b3a-e084-4f42-bb1f-0c2c678dd671",
   "metadata": {},
   "outputs": [
    {
     "data": {
      "text/plain": [
       "station_id                      int64\n",
       "num_bikes_available             int64\n",
       "num_docks_available             int64\n",
       "year                            int64\n",
       "month                           int64\n",
       "day                             int64\n",
       "hour                            int64\n",
       "minute                          int64\n",
       "avg_air_temp                  float64\n",
       "avg_humidity                  float64\n",
       "time                   datetime64[ns]\n",
       "dtype: object"
      ]
     },
     "execution_count": 6,
     "metadata": {},
     "output_type": "execute_result"
    }
   ],
   "source": [
    "# Checking if the above worked.\n",
    "cleaned_data.dtypes"
   ]
  },
  {
   "cell_type": "code",
   "execution_count": 7,
   "id": "559c5eea-dce4-48a6-a798-ea423cb495e5",
   "metadata": {},
   "outputs": [],
   "source": [
    "# Adding another feature for day name representing week day number. Here \"0\" represents Sunday, \"1\" represents Monday, and so on.\n",
    "cleaned_data[\"day_name\"] = cleaned_data[\"time\"].dt.dayofweek\n",
    "\n",
    "# Converting new feature to \"category\" type as there are limited possible values.\n",
    "cleaned_data[\"day_name\"] = cleaned_data[\"day_name\"].astype('category')"
   ]
  },
  {
   "cell_type": "code",
   "execution_count": 8,
   "id": "371540a6-e54d-49cc-b66b-e25bbf5ef572",
   "metadata": {},
   "outputs": [
    {
     "data": {
      "text/plain": [
       "station_id                      int64\n",
       "num_bikes_available             int64\n",
       "num_docks_available             int64\n",
       "year                            int64\n",
       "month                           int64\n",
       "day                             int64\n",
       "hour                            int64\n",
       "minute                          int64\n",
       "avg_air_temp                  float64\n",
       "avg_humidity                  float64\n",
       "time                   datetime64[ns]\n",
       "day_name                     category\n",
       "dtype: object"
      ]
     },
     "execution_count": 8,
     "metadata": {},
     "output_type": "execute_result"
    }
   ],
   "source": [
    "# Checking if it worked.\n",
    "cleaned_data.dtypes"
   ]
  },
  {
   "cell_type": "code",
   "execution_count": 9,
   "id": "61c6a6e7-2d91-48d6-ac88-a15e8b81f9a3",
   "metadata": {},
   "outputs": [
    {
     "data": {
      "text/html": [
       "<div>\n",
       "<style scoped>\n",
       "    .dataframe tbody tr th:only-of-type {\n",
       "        vertical-align: middle;\n",
       "    }\n",
       "\n",
       "    .dataframe tbody tr th {\n",
       "        vertical-align: top;\n",
       "    }\n",
       "\n",
       "    .dataframe thead th {\n",
       "        text-align: right;\n",
       "    }\n",
       "</style>\n",
       "<table border=\"1\" class=\"dataframe\">\n",
       "  <thead>\n",
       "    <tr style=\"text-align: right;\">\n",
       "      <th></th>\n",
       "      <th>station_id</th>\n",
       "      <th>num_bikes_available</th>\n",
       "      <th>num_docks_available</th>\n",
       "      <th>year</th>\n",
       "      <th>month</th>\n",
       "      <th>day</th>\n",
       "      <th>hour</th>\n",
       "      <th>minute</th>\n",
       "      <th>avg_air_temp</th>\n",
       "      <th>avg_humidity</th>\n",
       "      <th>time</th>\n",
       "      <th>day_name</th>\n",
       "    </tr>\n",
       "  </thead>\n",
       "  <tbody>\n",
       "    <tr>\n",
       "      <th>0</th>\n",
       "      <td>10</td>\n",
       "      <td>15</td>\n",
       "      <td>1</td>\n",
       "      <td>2024</td>\n",
       "      <td>12</td>\n",
       "      <td>1</td>\n",
       "      <td>0</td>\n",
       "      <td>10</td>\n",
       "      <td>13.955</td>\n",
       "      <td>83.75</td>\n",
       "      <td>2024-12-01 00:10:00</td>\n",
       "      <td>6</td>\n",
       "    </tr>\n",
       "    <tr>\n",
       "      <th>1</th>\n",
       "      <td>100</td>\n",
       "      <td>17</td>\n",
       "      <td>8</td>\n",
       "      <td>2024</td>\n",
       "      <td>12</td>\n",
       "      <td>1</td>\n",
       "      <td>0</td>\n",
       "      <td>10</td>\n",
       "      <td>13.955</td>\n",
       "      <td>83.75</td>\n",
       "      <td>2024-12-01 00:10:00</td>\n",
       "      <td>6</td>\n",
       "    </tr>\n",
       "    <tr>\n",
       "      <th>2</th>\n",
       "      <td>109</td>\n",
       "      <td>20</td>\n",
       "      <td>9</td>\n",
       "      <td>2024</td>\n",
       "      <td>12</td>\n",
       "      <td>1</td>\n",
       "      <td>0</td>\n",
       "      <td>10</td>\n",
       "      <td>13.955</td>\n",
       "      <td>83.75</td>\n",
       "      <td>2024-12-01 00:10:00</td>\n",
       "      <td>6</td>\n",
       "    </tr>\n",
       "    <tr>\n",
       "      <th>3</th>\n",
       "      <td>11</td>\n",
       "      <td>1</td>\n",
       "      <td>29</td>\n",
       "      <td>2024</td>\n",
       "      <td>12</td>\n",
       "      <td>1</td>\n",
       "      <td>0</td>\n",
       "      <td>10</td>\n",
       "      <td>13.955</td>\n",
       "      <td>83.75</td>\n",
       "      <td>2024-12-01 00:10:00</td>\n",
       "      <td>6</td>\n",
       "    </tr>\n",
       "    <tr>\n",
       "      <th>4</th>\n",
       "      <td>114</td>\n",
       "      <td>4</td>\n",
       "      <td>36</td>\n",
       "      <td>2024</td>\n",
       "      <td>12</td>\n",
       "      <td>1</td>\n",
       "      <td>0</td>\n",
       "      <td>10</td>\n",
       "      <td>13.955</td>\n",
       "      <td>83.75</td>\n",
       "      <td>2024-12-01 00:10:00</td>\n",
       "      <td>6</td>\n",
       "    </tr>\n",
       "    <tr>\n",
       "      <th>5</th>\n",
       "      <td>116</td>\n",
       "      <td>2</td>\n",
       "      <td>28</td>\n",
       "      <td>2024</td>\n",
       "      <td>12</td>\n",
       "      <td>1</td>\n",
       "      <td>0</td>\n",
       "      <td>10</td>\n",
       "      <td>13.955</td>\n",
       "      <td>83.75</td>\n",
       "      <td>2024-12-01 00:10:00</td>\n",
       "      <td>6</td>\n",
       "    </tr>\n",
       "    <tr>\n",
       "      <th>6</th>\n",
       "      <td>13</td>\n",
       "      <td>0</td>\n",
       "      <td>30</td>\n",
       "      <td>2024</td>\n",
       "      <td>12</td>\n",
       "      <td>1</td>\n",
       "      <td>0</td>\n",
       "      <td>10</td>\n",
       "      <td>13.955</td>\n",
       "      <td>83.75</td>\n",
       "      <td>2024-12-01 00:10:00</td>\n",
       "      <td>6</td>\n",
       "    </tr>\n",
       "    <tr>\n",
       "      <th>7</th>\n",
       "      <td>14</td>\n",
       "      <td>21</td>\n",
       "      <td>9</td>\n",
       "      <td>2024</td>\n",
       "      <td>12</td>\n",
       "      <td>1</td>\n",
       "      <td>0</td>\n",
       "      <td>10</td>\n",
       "      <td>13.955</td>\n",
       "      <td>83.75</td>\n",
       "      <td>2024-12-01 00:10:00</td>\n",
       "      <td>6</td>\n",
       "    </tr>\n",
       "    <tr>\n",
       "      <th>8</th>\n",
       "      <td>15</td>\n",
       "      <td>1</td>\n",
       "      <td>15</td>\n",
       "      <td>2024</td>\n",
       "      <td>12</td>\n",
       "      <td>1</td>\n",
       "      <td>0</td>\n",
       "      <td>10</td>\n",
       "      <td>13.955</td>\n",
       "      <td>83.75</td>\n",
       "      <td>2024-12-01 00:10:00</td>\n",
       "      <td>6</td>\n",
       "    </tr>\n",
       "    <tr>\n",
       "      <th>9</th>\n",
       "      <td>17</td>\n",
       "      <td>3</td>\n",
       "      <td>17</td>\n",
       "      <td>2024</td>\n",
       "      <td>12</td>\n",
       "      <td>1</td>\n",
       "      <td>0</td>\n",
       "      <td>10</td>\n",
       "      <td>13.955</td>\n",
       "      <td>83.75</td>\n",
       "      <td>2024-12-01 00:10:00</td>\n",
       "      <td>6</td>\n",
       "    </tr>\n",
       "  </tbody>\n",
       "</table>\n",
       "</div>"
      ],
      "text/plain": [
       "   station_id  num_bikes_available  num_docks_available  year  month  day  \\\n",
       "0          10                   15                    1  2024     12    1   \n",
       "1         100                   17                    8  2024     12    1   \n",
       "2         109                   20                    9  2024     12    1   \n",
       "3          11                    1                   29  2024     12    1   \n",
       "4         114                    4                   36  2024     12    1   \n",
       "5         116                    2                   28  2024     12    1   \n",
       "6          13                    0                   30  2024     12    1   \n",
       "7          14                   21                    9  2024     12    1   \n",
       "8          15                    1                   15  2024     12    1   \n",
       "9          17                    3                   17  2024     12    1   \n",
       "\n",
       "   hour  minute  avg_air_temp  avg_humidity                time day_name  \n",
       "0     0      10        13.955         83.75 2024-12-01 00:10:00        6  \n",
       "1     0      10        13.955         83.75 2024-12-01 00:10:00        6  \n",
       "2     0      10        13.955         83.75 2024-12-01 00:10:00        6  \n",
       "3     0      10        13.955         83.75 2024-12-01 00:10:00        6  \n",
       "4     0      10        13.955         83.75 2024-12-01 00:10:00        6  \n",
       "5     0      10        13.955         83.75 2024-12-01 00:10:00        6  \n",
       "6     0      10        13.955         83.75 2024-12-01 00:10:00        6  \n",
       "7     0      10        13.955         83.75 2024-12-01 00:10:00        6  \n",
       "8     0      10        13.955         83.75 2024-12-01 00:10:00        6  \n",
       "9     0      10        13.955         83.75 2024-12-01 00:10:00        6  "
      ]
     },
     "execution_count": 9,
     "metadata": {},
     "output_type": "execute_result"
    }
   ],
   "source": [
    "# Let's examine top 10 rows of data.\n",
    "cleaned_data.head(10)"
   ]
  },
  {
   "cell_type": "markdown",
   "id": "cdc68d28-4395-4dbb-9f78-e09aa0486a4e",
   "metadata": {},
   "source": [
    "Data has been cleaned and reorganised, the new feature has been added successfully as can be seen above. The cleaned CSV file can be saved now."
   ]
  },
  {
   "cell_type": "code",
   "execution_count": 10,
   "id": "0e803620-3d9b-4d4d-b154-2e5a16a960bf",
   "metadata": {},
   "outputs": [],
   "source": [
    "# Saving to a new CSV.\n",
    "cleaned_data.to_csv(\"cleaned_historical_weather_data.csv\", index=False)"
   ]
  }
 ],
 "metadata": {
  "kernelspec": {
   "display_name": "Python 3",
   "language": "python",
   "name": "python3"
  },
  "language_info": {
   "codemirror_mode": {
    "name": "ipython",
    "version": 3
   },
   "file_extension": ".py",
   "mimetype": "text/x-python",
   "name": "python",
   "nbconvert_exporter": "python",
   "pygments_lexer": "ipython3",
   "version": "3.11.11"
  }
 },
 "nbformat": 4,
 "nbformat_minor": 5
}
